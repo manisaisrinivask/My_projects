{
 "cells": [
  {
   "cell_type": "code",
   "execution_count": 7,
   "metadata": {
    "collapsed": true
   },
   "outputs": [],
   "source": [
    "import pandas as pd\n",
    "import matplotlib.pyplot as plt\n",
    "%matplotlib inline"
   ]
  },
  {
   "cell_type": "code",
   "execution_count": 23,
   "metadata": {},
   "outputs": [],
   "source": [
    "#using pandas to import your excel sheet as a dataframe\n",
    "filename = 'records1.xml.xlsx'\n",
    "df = pd.read_excel(filename)\n",
    "sorted_by_paid = df.sort_values(['PAID'], ascending=False)\n",
    "#highest paid insurances\n",
    "sorted_by_paid\n",
    "df['REMAINING'] = df['CHARGE'] - df['PAID']\n",
    "#showing the remaning amount each has to pay\n",
    "df1=df\n",
    "#using pivot tables \n",
    "df_subset = df[['NAME','PAID']]\n",
    "df_subset.head()\n",
    "company_by_year = df_subset.pivot_table(index=['NAME'])"
   ]
  },
  {
   "cell_type": "code",
   "execution_count": 25,
   "metadata": {},
   "outputs": [
    {
     "data": {
      "image/png": "[encoded data removed]",
      "text/plain": [
       "<matplotlib.figure.Figure at 0x2d1195d03c8>"
      ]
     },
     "metadata": {},
     "output_type": "display_data"
    },
    {
     "data": {
      "text/html": [
       "<div>\n",
       "<style>\n",
       "    .dataframe thead tr:only-child th {\n",
       "        text-align: right;\n",
       "    }\n",
       "\n",
       "    .dataframe thead th {\n",
       "        text-align: left;\n",
       "    }\n",
       "\n",
       "    .dataframe tbody tr th {\n",
       "        vertical-align: top;\n",
       "    }\n",
       "</style>\n",
       "<table border=\"1\" class=\"dataframe\">\n",
       "  <thead>\n",
       "    <tr style=\"text-align: right;\">\n",
       "      <th></th>\n",
       "      <th>CHARGE</th>\n",
       "      <th>PAID</th>\n",
       "      <th>REMAINING</th>\n",
       "    </tr>\n",
       "    <tr>\n",
       "      <th>NAME</th>\n",
       "      <th></th>\n",
       "      <th></th>\n",
       "      <th></th>\n",
       "    </tr>\n",
       "  </thead>\n",
       "  <tbody>\n",
       "    <tr>\n",
       "      <th>abc</th>\n",
       "      <td>440.000</td>\n",
       "      <td>372.00</td>\n",
       "      <td>68.000</td>\n",
       "    </tr>\n",
       "    <tr>\n",
       "      <th>ecb</th>\n",
       "      <td>421.875</td>\n",
       "      <td>321.25</td>\n",
       "      <td>100.625</td>\n",
       "    </tr>\n",
       "    <tr>\n",
       "      <th>slb</th>\n",
       "      <td>650.000</td>\n",
       "      <td>523.75</td>\n",
       "      <td>126.250</td>\n",
       "    </tr>\n",
       "    <tr>\n",
       "      <th>wcb</th>\n",
       "      <td>420.000</td>\n",
       "      <td>308.00</td>\n",
       "      <td>112.000</td>\n",
       "    </tr>\n",
       "  </tbody>\n",
       "</table>\n",
       "</div>"
      ],
      "text/plain": [
       "       CHARGE    PAID  REMAINING\n",
       "NAME                            \n",
       "abc   440.000  372.00     68.000\n",
       "ecb   421.875  321.25    100.625\n",
       "slb   650.000  523.75    126.250\n",
       "wcb   420.000  308.00    112.000"
      ]
     },
     "execution_count": 25,
     "metadata": {},
     "output_type": "execute_result"
    }
   ],
   "source": [
    "#this gives the total amount paid by the company\n",
    "company_by_year.head()\n",
    "plt.title(\"Amount paid by each Insurance company\")\n",
    "company_by_year['PAID'].plot(kind=\"barh\")\n",
    "plt.show()\n",
    "df_sub1 = df[['NAME','PAID','REMAINING','CHARGE']]\n",
    "# showing what each company is charged,remaining ,paid\n",
    "df_sub1\n",
    "df_by_name = df_sub1.pivot_table(index=['NAME'])\n",
    "df_by_name"
   ]
  },
  {
   "cell_type": "code",
   "execution_count": 25,
   "metadata": {},
   "outputs": [
    {
     "data": {
      "text/html": [
       "<div>\n",
       "<style>\n",
       "    .dataframe thead tr:only-child th {\n",
       "        text-align: right;\n",
       "    }\n",
       "\n",
       "    .dataframe thead th {\n",
       "        text-align: left;\n",
       "    }\n",
       "\n",
       "    .dataframe tbody tr th {\n",
       "        vertical-align: top;\n",
       "    }\n",
       "</style>\n",
       "<table border=\"1\" class=\"dataframe\">\n",
       "  <thead>\n",
       "    <tr style=\"text-align: right;\">\n",
       "      <th></th>\n",
       "      <th>CPT</th>\n",
       "      <th>DOS</th>\n",
       "      <th>DOP</th>\n",
       "      <th>NAME</th>\n",
       "      <th>CHARGE</th>\n",
       "      <th>PAID</th>\n",
       "      <th>REMAINING</th>\n",
       "      <th>DIFFERENCE</th>\n",
       "    </tr>\n",
       "  </thead>\n",
       "  <tbody>\n",
       "    <tr>\n",
       "      <th>23</th>\n",
       "      <td>11115</td>\n",
       "      <td>2018-07-05</td>\n",
       "      <td>2018-06-02</td>\n",
       "      <td>slb</td>\n",
       "      <td>500</td>\n",
       "      <td>400</td>\n",
       "      <td>100</td>\n",
       "      <td>-33 days</td>\n",
       "    </tr>\n",
       "    <tr>\n",
       "      <th>0</th>\n",
       "      <td>11111</td>\n",
       "      <td>2018-07-03</td>\n",
       "      <td>2018-07-05</td>\n",
       "      <td>abc</td>\n",
       "      <td>200</td>\n",
       "      <td>100</td>\n",
       "      <td>100</td>\n",
       "      <td>2 days</td>\n",
       "    </tr>\n",
       "    <tr>\n",
       "      <th>42</th>\n",
       "      <td>11112</td>\n",
       "      <td>2018-07-03</td>\n",
       "      <td>2018-07-05</td>\n",
       "      <td>abc</td>\n",
       "      <td>200</td>\n",
       "      <td>100</td>\n",
       "      <td>100</td>\n",
       "      <td>2 days</td>\n",
       "    </tr>\n",
       "    <tr>\n",
       "      <th>35</th>\n",
       "      <td>11114</td>\n",
       "      <td>2018-07-03</td>\n",
       "      <td>2018-07-05</td>\n",
       "      <td>ecb</td>\n",
       "      <td>200</td>\n",
       "      <td>100</td>\n",
       "      <td>100</td>\n",
       "      <td>2 days</td>\n",
       "    </tr>\n",
       "    <tr>\n",
       "      <th>45</th>\n",
       "      <td>11113</td>\n",
       "      <td>2018-07-03</td>\n",
       "      <td>2018-07-13</td>\n",
       "      <td>abc</td>\n",
       "      <td>1000</td>\n",
       "      <td>950</td>\n",
       "      <td>50</td>\n",
       "      <td>10 days</td>\n",
       "    </tr>\n",
       "  </tbody>\n",
       "</table>\n",
       "</div>"
      ],
      "text/plain": [
       "      CPT        DOS        DOP NAME  CHARGE  PAID  REMAINING DIFFERENCE\n",
       "23  11115 2018-07-05 2018-06-02  slb     500   400        100   -33 days\n",
       "0   11111 2018-07-03 2018-07-05  abc     200   100        100     2 days\n",
       "42  11112 2018-07-03 2018-07-05  abc     200   100        100     2 days\n",
       "35  11114 2018-07-03 2018-07-05  ecb     200   100        100     2 days\n",
       "45  11113 2018-07-03 2018-07-13  abc    1000   950         50    10 days"
      ]
     },
     "execution_count": 25,
     "metadata": {},
     "output_type": "execute_result"
    }
   ],
   "source": [
    "sorted_by_diff = df.sort_values(['DIFFERENCE'], ascending=True)\n",
    "sorted_by_diff.head(5)"
   ]
  },
  {
   "cell_type": "code",
   "execution_count": 18,
   "metadata": {},
   "outputs": [
    {
     "data": {
      "text/html": [
       "<div>\n",
       "<style>\n",
       "    .dataframe thead tr:only-child th {\n",
       "        text-align: right;\n",
       "    }\n",
       "\n",
       "    .dataframe thead th {\n",
       "        text-align: left;\n",
       "    }\n",
       "\n",
       "    .dataframe tbody tr th {\n",
       "        vertical-align: top;\n",
       "    }\n",
       "</style>\n",
       "<table border=\"1\" class=\"dataframe\">\n",
       "  <thead>\n",
       "    <tr style=\"text-align: right;\">\n",
       "      <th></th>\n",
       "      <th>CPT</th>\n",
       "      <th>COUNT</th>\n",
       "    </tr>\n",
       "  </thead>\n",
       "  <tbody>\n",
       "    <tr>\n",
       "      <th>0</th>\n",
       "      <td>11112</td>\n",
       "      <td>15</td>\n",
       "    </tr>\n",
       "    <tr>\n",
       "      <th>1</th>\n",
       "      <td>11115</td>\n",
       "      <td>10</td>\n",
       "    </tr>\n",
       "    <tr>\n",
       "      <th>2</th>\n",
       "      <td>11113</td>\n",
       "      <td>10</td>\n",
       "    </tr>\n",
       "    <tr>\n",
       "      <th>3</th>\n",
       "      <td>11114</td>\n",
       "      <td>8</td>\n",
       "    </tr>\n",
       "    <tr>\n",
       "      <th>4</th>\n",
       "      <td>11111</td>\n",
       "      <td>6</td>\n",
       "    </tr>\n",
       "  </tbody>\n",
       "</table>\n",
       "</div>"
      ],
      "text/plain": [
       "     CPT  COUNT\n",
       "0  11112     15\n",
       "1  11115     10\n",
       "2  11113     10\n",
       "3  11114      8\n",
       "4  11111      6"
      ]
     },
     "execution_count": 18,
     "metadata": {},
     "output_type": "execute_result"
    }
   ],
   "source": [
    "#top cpt practises\n",
    "df_subset_cpt = df[['CPT','PAID']]\n",
    "df_subset_cpt.head()\n",
    "df_subset_cpt_table=df_subset_cpt['CPT'].value_counts()\n",
    "# creating count of each cpt\n",
    "df_subset_cpt_count_table = pd.value_counts(df_subset_cpt.CPT).to_frame().reset_index()\n",
    "df_subset_cpt_count_table.columns=['CPT','COUNT']\n",
    "df_subset_cpt_count_table"
   ]
  },
  {
   "cell_type": "code",
   "execution_count": 20,
   "metadata": {},
   "outputs": [
    {
     "data": {
      "image/png": "[encoded data removed]",
      "text/plain": [
       "<matplotlib.figure.Figure at 0x2d11a7adbe0>"
      ]
     },
     "metadata": {},
     "output_type": "display_data"
    }
   ],
   "source": [
    "fig = plt.figure()\n",
    "\n",
    "plt.subplot(2, 2, 1)\n",
    "plt.title('By Paid')\n",
    "df_by_name['PAID'].plot(kind=\"bar\")\n",
    "plt.subplot(2, 2, 2)\n",
    "plt.title('By Charge')\n",
    "df_by_name['CHARGE'].plot(kind=\"bar\")\n",
    "plt.subplot(2, 2, 3)\n",
    "plt.title('By Remaining')\n",
    "df_by_name['REMAINING'].plot(kind=\"bar\")\n",
    "\n",
    "fig.subplots_adjust(wspace=1)\n",
    "fig.subplots_adjust(hspace=1)\n",
    "plt.show()"
   ]
  }
 ],
 "metadata": {
  "kernelspec": {
   "display_name": "Python 3",
   "language": "python",
   "name": "python3"
  },
  "language_info": {
   "codemirror_mode": {
    "name": "ipython",
    "version": 3
   },
   "file_extension": ".py",
   "mimetype": "text/x-python",
   "name": "python",
   "nbconvert_exporter": "python",
   "pygments_lexer": "ipython3",
   "version": "3.6.2"
  }
 },
 "nbformat": 4,
 "nbformat_minor": 2
}
